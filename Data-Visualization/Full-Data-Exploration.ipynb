{
 "cells": [
  {
   "cell_type": "code",
   "execution_count": null,
   "metadata": {},
   "outputs": [],
   "source": [
    "import numpy as np\n",
    "import pandas as pd\n",
    "import seaborn as sns\n",
    "import cufflinks as cf\n",
    "import plotly\n",
    "import matplotlib.pyplot as plt\n",
    "import nltk"
   ]
  },
  {
   "cell_type": "code",
   "execution_count": null,
   "metadata": {},
   "outputs": [],
   "source": [
    "df = pd.read_csv(\"Actual-Data/stingar_full-20190520.csv\", low_memory = False )"
   ]
  },
  {
   "cell_type": "code",
   "execution_count": null,
   "metadata": {},
   "outputs": [],
   "source": [
    "df.info()"
   ]
  },
  {
   "cell_type": "code",
   "execution_count": null,
   "metadata": {},
   "outputs": [],
   "source": [
    "df.head()"
   ]
  },
  {
   "cell_type": "markdown",
   "metadata": {},
   "source": [
    "Dictionary\n",
    "========\n",
    "\n",
    "The data has the following fields:\n",
    "\n",
    "1. **app** - Honeypot type. Can be cowrie, amun, glastof, dioanea, conpot or rdphoney. Different honeypots capture different attacks/traffic. For example, Cowrie taps in to SSH/Telnet connections.\n",
    "2. **command** - Commands run by the attacker if they are able to login. It's a string. Typically a location the attacker is trying to pull their attack tools from. Can be a personal workspace.\n",
    "3. **data** - Base-64 encoded data sent by attacker. **Field exists only for rdphoney**. \n",
    "4. **dest_ip** - IP of the docker/honeypot receiving the incoming connection. Not really useful. **DELETED**\n",
    "5. **dest_port** - Port for the incoming connection as translated by the docker. Original port value unknown as it depends on the internal mapping mechanism of the docker.\n",
    "6. **dionaea_action** - Action taken by dionaea honeypot. Can be accept, reject, connect or listen.\n",
    "7. **direction** - inbound only. **Redundant column**. **DELETED**\n",
    "8. **ids_type** - **Redundant column.** Only IDS type is network. **DELETED**\n",
    "9. **protocol** - **Redundant column.** As only protocol used is IP. **DELETED**\n",
    "10. **request_url** - **URL requested by attacker available only for \"glastof\" honeypot.\n",
    "11. **sensor** - UUID of honeypot. Unique ID of a honeypot.\n",
    "12. **severity** - **Redundant column**. Only value is high. **DELETED**\n",
    "13. **signature** - Honeypot's interpretation of the attack based on its configuration, different for different honeypots. Exploration tells me it is the type of attack.\n",
    "14. **src_ip** - IP of the attacker. \n",
    "15. **src_port** - Port used by the attacker.\n",
    "16. **ssh_password** - passwords tried by attacker to get in. List of tuples.\n",
    "17. **ssh_username** - usernames used by attacker to gain access.\n",
    "18. **ssh_version** - version string passed by attacker while trying to gain access.\n",
    "19. **tags** - arbitrary info/values that an attacker is allowed is send and will be accepted/stored as tags by the sensor\n",
    "20. **timestamp** - UTC timestamp of the request. \n",
    "21. **transport** - **Redundant column**. Single value. **DELETED**\n",
    "22. **type** - type of service used by the attacker.\n",
    "23. **url** - URL requested by the attacker, is extracted from the command field. Convenience filed extracted from 'command' field.\n",
    "24. **username** - **Redundant field.** **DELETED**\n",
    "25. **vendor_product** - same as app. **Redundant field**. **DELETED**\n",
    "26. **d_time** - pulled from timestamp. Local time.\n",
    "27. **d_time_window** - 5 minutes margin from d_time. \n",
    "\n",
    "\t"
   ]
  },
  {
   "cell_type": "code",
   "execution_count": null,
   "metadata": {},
   "outputs": [],
   "source": [
    "#Drop the redundant columns\n",
    "df.drop([\"direction\", \"ids_type\", \"protocol\", \"severity\", \"vendor_product\", \"username\"], axis = 1, inplace = True)   \n",
    "                  "
   ]
  },
  {
   "cell_type": "code",
   "execution_count": null,
   "metadata": {},
   "outputs": [],
   "source": [
    "df.drop([\"Unnamed: 0\"], inplace = True, axis = 1)\n",
    "df.head()"
   ]
  },
  {
   "cell_type": "code",
   "execution_count": null,
   "metadata": {},
   "outputs": [],
   "source": [
    "df['type'].unique()"
   ]
  },
  {
   "cell_type": "code",
   "execution_count": null,
   "metadata": {},
   "outputs": [],
   "source": [
    "df['tags'].unique()\n",
    "\n"
   ]
  },
  {
   "cell_type": "code",
   "execution_count": null,
   "metadata": {},
   "outputs": [],
   "source": [
    "df['signature'].unique()"
   ]
  },
  {
   "cell_type": "code",
   "execution_count": null,
   "metadata": {},
   "outputs": [],
   "source": [
    "df['command'].unique()"
   ]
  },
  {
   "cell_type": "code",
   "execution_count": null,
   "metadata": {},
   "outputs": [],
   "source": [
    "df['command'].nunique()"
   ]
  },
  {
   "cell_type": "code",
   "execution_count": null,
   "metadata": {},
   "outputs": [],
   "source": [
    "df['command'].value_counts()"
   ]
  },
  {
   "cell_type": "code",
   "execution_count": null,
   "metadata": {},
   "outputs": [],
   "source": [
    "df.groupby('signature').describe()"
   ]
  },
  {
   "cell_type": "code",
   "execution_count": null,
   "metadata": {},
   "outputs": [],
   "source": [
    "df['data']"
   ]
  },
  {
   "cell_type": "code",
   "execution_count": null,
   "metadata": {},
   "outputs": [],
   "source": [
    "df['data'].unique()"
   ]
  },
  {
   "cell_type": "code",
   "execution_count": null,
   "metadata": {},
   "outputs": [],
   "source": [
    "#Destination IP is not useful and hence we can drop the column\n",
    "df.head()"
   ]
  },
  {
   "cell_type": "code",
   "execution_count": null,
   "metadata": {},
   "outputs": [],
   "source": [
    "df['dest_port']"
   ]
  },
  {
   "cell_type": "code",
   "execution_count": null,
   "metadata": {},
   "outputs": [],
   "source": [
    "df['dest_port'].value_counts()"
   ]
  },
  {
   "cell_type": "code",
   "execution_count": null,
   "metadata": {},
   "outputs": [],
   "source": [
    "df[df['dest_port'] == 'cowrie.sessions']"
   ]
  },
  {
   "cell_type": "code",
   "execution_count": null,
   "metadata": {},
   "outputs": [],
   "source": [
    "#Cowrie Sessions Data is pretty useless. Might as well drop the rows\n",
    "df.drop(df.index[df[df['dest_port'] == 'cowrie.sessions'].index], inplace = True)"
   ]
  },
  {
   "cell_type": "code",
   "execution_count": null,
   "metadata": {},
   "outputs": [],
   "source": [
    "df['dest_port'].value_counts()"
   ]
  },
  {
   "cell_type": "code",
   "execution_count": null,
   "metadata": {},
   "outputs": [],
   "source": [
    "df[df['dest_port'] == 'tcp'].index"
   ]
  },
  {
   "cell_type": "code",
   "execution_count": null,
   "metadata": {},
   "outputs": [],
   "source": [
    "df[\"src_ip\"]"
   ]
  },
  {
   "cell_type": "code",
   "execution_count": null,
   "metadata": {},
   "outputs": [],
   "source": [
    "df.drop(df.index[df[df['dest_port'] == 'tcp'].index], inplace = True)"
   ]
  },
  {
   "cell_type": "code",
   "execution_count": null,
   "metadata": {},
   "outputs": [],
   "source": [
    "df['dest_port'].value_counts()"
   ]
  },
  {
   "cell_type": "code",
   "execution_count": null,
   "metadata": {},
   "outputs": [],
   "source": [
    "df.head()"
   ]
  },
  {
   "cell_type": "code",
   "execution_count": null,
   "metadata": {},
   "outputs": [],
   "source": [
    "df.head()"
   ]
  },
  {
   "cell_type": "markdown",
   "metadata": {},
   "source": [
    "Let's explore the signature column"
   ]
  },
  {
   "cell_type": "code",
   "execution_count": null,
   "metadata": {
    "scrolled": true
   },
   "outputs": [],
   "source": [
    "sns.set(style='darkgrid', rc={\"grid.linewidth\": 0.1})\n",
    "fig = plt.figure(figsize = (25,15))\n",
    "sns.countplot(x = \"signature\", data = df)\n",
    "plt.tight_layout()"
   ]
  },
  {
   "cell_type": "code",
   "execution_count": null,
   "metadata": {},
   "outputs": [],
   "source": [
    "df['app'].value_counts()"
   ]
  },
  {
   "cell_type": "markdown",
   "metadata": {},
   "source": [
    "We need to drop all the rows apart from \n",
    "\n",
    "\n",
    "\n",
    "cowrie         1238845\n",
    "dionaea        195462\n",
    "amun             5801\n",
    "rdphoney         2646\n",
    "glastopf          738\n",
    "conpot             27"
   ]
  },
  {
   "cell_type": "code",
   "execution_count": null,
   "metadata": {},
   "outputs": [],
   "source": [
    "new_frame = df[(df['app'] == 'cowrie') | (df['app'] == 'dionaea') | (df['app'] == \"amun\") | (df['app'] == 'rdphoney') | (df['app'] == 'glastopf') | (df['app'] == 'conpot')].copy()   "
   ]
  },
  {
   "cell_type": "code",
   "execution_count": null,
   "metadata": {},
   "outputs": [],
   "source": [
    "new_frame.head()"
   ]
  },
  {
   "cell_type": "code",
   "execution_count": null,
   "metadata": {},
   "outputs": [],
   "source": [
    "new_frame['app'].value_counts()"
   ]
  },
  {
   "cell_type": "code",
   "execution_count": null,
   "metadata": {},
   "outputs": [],
   "source": [
    "sns.set(style='darkgrid', rc={\"grid.linewidth\": 0.1})\n",
    "fig = plt.figure(figsize = (25,15))\n",
    "sns.countplot(x = \"app\", data = new_frame)\n",
    "plt.tight_layout()"
   ]
  },
  {
   "cell_type": "code",
   "execution_count": null,
   "metadata": {},
   "outputs": [],
   "source": [
    "new_frame['dest_port'].value_counts()"
   ]
  },
  {
   "cell_type": "code",
   "execution_count": null,
   "metadata": {},
   "outputs": [],
   "source": [
    "new_frame['dionaea_action'].value_counts()"
   ]
  },
  {
   "cell_type": "code",
   "execution_count": null,
   "metadata": {},
   "outputs": [],
   "source": [
    "new_frame['command'].value_counts()"
   ]
  },
  {
   "cell_type": "code",
   "execution_count": null,
   "metadata": {},
   "outputs": [],
   "source": [
    "new_frame['data'].value_counts()"
   ]
  },
  {
   "cell_type": "code",
   "execution_count": null,
   "metadata": {},
   "outputs": [],
   "source": [
    "new_frame['ssh_password'].value_counts()"
   ]
  },
  {
   "cell_type": "code",
   "execution_count": null,
   "metadata": {},
   "outputs": [],
   "source": [
    "new_frame['src_ip'].value_counts()"
   ]
  },
  {
   "cell_type": "code",
   "execution_count": null,
   "metadata": {},
   "outputs": [],
   "source": [
    "new_frame['src_port'].value_counts()"
   ]
  },
  {
   "cell_type": "code",
   "execution_count": null,
   "metadata": {},
   "outputs": [],
   "source": [
    "new_frame['ssh_version'].value_counts()"
   ]
  },
  {
   "cell_type": "code",
   "execution_count": null,
   "metadata": {},
   "outputs": [],
   "source": [
    "new_frame['tags'].value_counts()"
   ]
  },
  {
   "cell_type": "code",
   "execution_count": null,
   "metadata": {},
   "outputs": [],
   "source": [
    "df['tags'].value_counts()"
   ]
  },
  {
   "cell_type": "code",
   "execution_count": null,
   "metadata": {},
   "outputs": [],
   "source": [
    "new = pd.read_csv(\"Actual-Data/stingar_full-20190520.csv\", low_memory = False )\n",
    "new['tags'].value_counts()"
   ]
  },
  {
   "cell_type": "code",
   "execution_count": null,
   "metadata": {},
   "outputs": [],
   "source": [
    "fig = plt.figure()\n",
    "fig.set_size_inches(11.7, 8.27)\n",
    "sns.heatmap(new.isnull(), cmap=\"viridis\")\n",
    "plt.tight_layout()"
   ]
  },
  {
   "cell_type": "code",
   "execution_count": null,
   "metadata": {},
   "outputs": [],
   "source": [
    "new['tags'].count()"
   ]
  },
  {
   "cell_type": "code",
   "execution_count": null,
   "metadata": {},
   "outputs": [],
   "source": [
    "values = {\"tags\": \"cloud\"}\n",
    "new_frame.fillna(values, inplace = True)"
   ]
  },
  {
   "cell_type": "code",
   "execution_count": null,
   "metadata": {},
   "outputs": [],
   "source": [
    "new_frame['tags'].value_counts()"
   ]
  },
  {
   "cell_type": "code",
   "execution_count": null,
   "metadata": {},
   "outputs": [],
   "source": [
    "fig = plt.figure()\n",
    "fig.set_size_inches(11.7, 8.27)\n",
    "sns.heatmap(new_frame.isnull(), cmap=\"viridis\")\n",
    "plt.tight_layout()"
   ]
  },
  {
   "cell_type": "code",
   "execution_count": null,
   "metadata": {},
   "outputs": [],
   "source": [
    "new_frame[\"request_url\"].value_counts()"
   ]
  },
  {
   "cell_type": "code",
   "execution_count": null,
   "metadata": {},
   "outputs": [],
   "source": [
    "new_frame['request_url'].count()"
   ]
  },
  {
   "cell_type": "code",
   "execution_count": null,
   "metadata": {},
   "outputs": [],
   "source": [
    "new_frame['url'].count()"
   ]
  },
  {
   "cell_type": "code",
   "execution_count": null,
   "metadata": {},
   "outputs": [],
   "source": [
    "new_frame['url'].value_counts()"
   ]
  },
  {
   "cell_type": "code",
   "execution_count": null,
   "metadata": {},
   "outputs": [],
   "source": [
    "total = new_frame.isnull().sum().sort_values(ascending=False)\n",
    "percent = (new_frame.isnull().sum()/new_frame.isnull().count()).sort_values(ascending=False)\n",
    "missing_data = pd.concat([total, percent], axis=1, keys=['Total', 'Percent'])\n",
    "f, ax = plt.subplots()\n",
    "f.set_size_inches(11.7, 8.27)\n",
    "plt.xticks(rotation='90')\n",
    "sns.barplot(x=missing_data.index, y=missing_data['Percent'])\n",
    "plt.xlabel('Features', fontsize=15)\n",
    "plt.ylabel('Percent of missing values', fontsize=15)\n",
    "plt.title('Percent missing data by feature', fontsize=15)\n",
    "missing_data.head()"
   ]
  },
  {
   "cell_type": "code",
   "execution_count": null,
   "metadata": {},
   "outputs": [],
   "source": [
    "new_frame['command'].fillna(value = \"exit\", inplace = True)"
   ]
  },
  {
   "cell_type": "code",
   "execution_count": null,
   "metadata": {},
   "outputs": [],
   "source": [
    "new_frame['command'].value_counts()"
   ]
  },
  {
   "cell_type": "code",
   "execution_count": null,
   "metadata": {},
   "outputs": [],
   "source": []
  },
  {
   "cell_type": "code",
   "execution_count": null,
   "metadata": {},
   "outputs": [],
   "source": [
    "new_frame['ssh_password'].fillna(method = \"bfill\", inplace = True)"
   ]
  },
  {
   "cell_type": "code",
   "execution_count": null,
   "metadata": {},
   "outputs": [],
   "source": [
    "new_frame['ssh_password'].value_counts()"
   ]
  },
  {
   "cell_type": "code",
   "execution_count": null,
   "metadata": {
    "scrolled": false
   },
   "outputs": [],
   "source": [
    "new_frame.command.value_counts()"
   ]
  },
  {
   "cell_type": "code",
   "execution_count": null,
   "metadata": {},
   "outputs": [],
   "source": [
    "new_frame.ssh_version.value_counts()"
   ]
  },
  {
   "cell_type": "code",
   "execution_count": null,
   "metadata": {},
   "outputs": [],
   "source": [
    "new_frame.ssh_password.fillna(\"none\",inplace=True)\n",
    "new_frame.ssh_version.fillna(\"SSH-2.0-OpenSSH_7.3\", inplace = True)\n",
    "new_frame.dionaea_action.fillna(\"Not Applicable\", inplace = True)"
   ]
  },
  {
   "cell_type": "code",
   "execution_count": null,
   "metadata": {},
   "outputs": [],
   "source": [
    "new_frame.dionaea_action.value_counts()"
   ]
  },
  {
   "cell_type": "code",
   "execution_count": null,
   "metadata": {},
   "outputs": [],
   "source": [
    "total = new_frame.isnull().sum().sort_values(ascending=False)\n",
    "percent = (new_frame.isnull().sum()/new_frame.isnull().count()).sort_values(ascending=False)\n",
    "missing_data = pd.concat([total, percent], axis=1, keys=['Total', 'Percent'])\n",
    "f, ax = plt.subplots(figsize=(15, 6))\n",
    "plt.xticks(rotation='90')\n",
    "sns.barplot(x=missing_data.index, y=missing_data['Percent'])\n",
    "plt.xlabel('Features', fontsize=15)\n",
    "plt.ylabel('Percent of missing values', fontsize=15)\n",
    "plt.title('Percent missing data by feature', fontsize=15)\n",
    "missing_data.head()"
   ]
  },
  {
   "cell_type": "code",
   "execution_count": null,
   "metadata": {},
   "outputs": [],
   "source": [
    "new_frame.hash.value_counts()"
   ]
  },
  {
   "cell_type": "code",
   "execution_count": null,
   "metadata": {},
   "outputs": [],
   "source": [
    "new_frame.head()"
   ]
  },
  {
   "cell_type": "code",
   "execution_count": null,
   "metadata": {},
   "outputs": [],
   "source": [
    "new_frame.drop(['hash'], axis =1 , inplace=True)"
   ]
  },
  {
   "cell_type": "code",
   "execution_count": null,
   "metadata": {},
   "outputs": [],
   "source": [
    "total = new_frame.isnull().sum().sort_values(ascending=False)\n",
    "percent = (new_frame.isnull().sum()/new_frame.isnull().count()).sort_values(ascending=False)\n",
    "missing_data = pd.concat([total, percent], axis=1, keys=['Total', 'Percent'])\n",
    "f, ax = plt.subplots(figsize=(15, 6))\n",
    "plt.xticks(rotation='90')\n",
    "sns.barplot(x=missing_data.index, y=missing_data['Percent'])\n",
    "plt.xlabel('Features', fontsize=15)\n",
    "plt.ylabel('Percent of missing values', fontsize=15)\n",
    "plt.title('Percent missing data by feature', fontsize=15)\n",
    "missing_data.head()"
   ]
  },
  {
   "cell_type": "code",
   "execution_count": null,
   "metadata": {},
   "outputs": [],
   "source": [
    "new_frame.drop(columns=['transport'], inplace=True)"
   ]
  },
  {
   "cell_type": "code",
   "execution_count": null,
   "metadata": {},
   "outputs": [],
   "source": [
    "new_frame['dest_ip'].value_counts()"
   ]
  },
  {
   "cell_type": "code",
   "execution_count": null,
   "metadata": {},
   "outputs": [],
   "source": [
    "new_frame['dest_port'].value_counts()"
   ]
  },
  {
   "cell_type": "code",
   "execution_count": null,
   "metadata": {},
   "outputs": [],
   "source": [
    "new_frame.head()"
   ]
  },
  {
   "cell_type": "code",
   "execution_count": null,
   "metadata": {},
   "outputs": [],
   "source": [
    "new_frame['sensor'].value_counts()"
   ]
  },
  {
   "cell_type": "code",
   "execution_count": null,
   "metadata": {},
   "outputs": [],
   "source": [
    "df['ssh_password'].value_counts()"
   ]
  },
  {
   "cell_type": "code",
   "execution_count": null,
   "metadata": {},
   "outputs": [],
   "source": [
    "df['ssh_username'].value_counts()"
   ]
  },
  {
   "cell_type": "markdown",
   "metadata": {},
   "source": [
    "## Choose Categories\n",
    "\n",
    "Now, let's try to categorize data so that we can make predictions."
   ]
  },
  {
   "cell_type": "code",
   "execution_count": null,
   "metadata": {},
   "outputs": [],
   "source": [
    "#ssh_username\n",
    "value_counts = new_frame['ssh_username'].value_counts()\n",
    "to_remove = value_counts[value_counts <= 1000].index\n",
    "new_frame = new_frame[~new_frame.ssh_username.isin(to_remove)]\n",
    "new_frame['ssh_username'].value_counts()"
   ]
  },
  {
   "cell_type": "code",
   "execution_count": null,
   "metadata": {},
   "outputs": [],
   "source": [
    "new_frame['ssh_password'].value_counts()"
   ]
  },
  {
   "cell_type": "code",
   "execution_count": null,
   "metadata": {},
   "outputs": [],
   "source": [
    "value_counts = new_frame['ssh_password'].value_counts()\n",
    "to_remove = value_counts[value_counts <= 2000].index\n",
    "new_frame = new_frame[~new_frame.ssh_password.isin(to_remove)]\n",
    "new_frame['ssh_password'].value_counts()"
   ]
  },
  {
   "cell_type": "code",
   "execution_count": null,
   "metadata": {},
   "outputs": [],
   "source": [
    "value_counts = new_frame['sensor'].value_counts()\n",
    "to_remove = value_counts[value_counts <= 300].index\n",
    "new_frame = new_frame[~new_frame.sensor.isin(to_remove)]\n",
    "new_frame['sensor'].value_counts()"
   ]
  },
  {
   "cell_type": "code",
   "execution_count": null,
   "metadata": {},
   "outputs": [],
   "source": [
    "new_frame['tags'].value_counts()"
   ]
  },
  {
   "cell_type": "code",
   "execution_count": null,
   "metadata": {},
   "outputs": [],
   "source": [
    "new_frame['ssh_username'].value_counts()"
   ]
  },
  {
   "cell_type": "code",
   "execution_count": null,
   "metadata": {},
   "outputs": [],
   "source": [
    "new_frame['ssh_password'].value_counts()"
   ]
  },
  {
   "cell_type": "code",
   "execution_count": null,
   "metadata": {},
   "outputs": [],
   "source": [
    "new_frame['ssh_version'].value_counts()"
   ]
  },
  {
   "cell_type": "code",
   "execution_count": null,
   "metadata": {},
   "outputs": [],
   "source": [
    "value_counts = new_frame['ssh_version'].value_counts()\n",
    "to_remove = value_counts[value_counts <= 20].index\n",
    "new_frame = new_frame[~new_frame.ssh_version.isin(to_remove)]\n",
    "new_frame['ssh_version'].value_counts()"
   ]
  },
  {
   "cell_type": "code",
   "execution_count": null,
   "metadata": {},
   "outputs": [],
   "source": [
    "value_counts = new_frame['dest_port'].value_counts()\n",
    "to_remove = value_counts[value_counts <= 1].index\n",
    "new_frame = new_frame[~new_frame.dest_port.isin(to_remove)]\n",
    "new_frame['dest_port'].value_counts()"
   ]
  },
  {
   "cell_type": "code",
   "execution_count": null,
   "metadata": {},
   "outputs": [],
   "source": [
    "new_frame['src_ip'].value_counts()\n",
    "value_counts = new_frame['dest_port'].value_counts()\n",
    "to_remove = value_counts[value_counts <= 1].index\n",
    "new_frame = new_frame[~new_frame.dest_port.isin(to_remove)]\n",
    "new_frame['dest_port'].value_counts()"
   ]
  },
  {
   "cell_type": "code",
   "execution_count": null,
   "metadata": {},
   "outputs": [],
   "source": [
    "print(new_frame['app'].value_counts())\n",
    "print(\"\\n\")\n",
    "print(new_frame['tags'].value_counts())\n",
    "print(\"\\n\")\n",
    "print(new_frame['sensor'].value_counts())   \n",
    "print(\"\\n\")\n",
    "print(new_frame['ssh_username'].value_counts()) \n",
    "print(\"\\n\")\n",
    "print(new_frame['ssh_password'].value_counts())\n",
    "print(\"\\n\")\n",
    "print(new_frame['dest_ip'].value_counts())\n",
    "print(\"\\n\")\n",
    "print(new_frame['dest_port'].value_counts())\n",
    "print(\"\\n\")\n",
    "print(new_frame['signature'].value_counts())\n",
    "print(\"\\n\")\n",
    "print(new_frame['type'].value_counts())\n",
    "print(\"\\n\")\n",
    "print(new_frame['d_time_window'].value_counts())"
   ]
  },
  {
   "cell_type": "code",
   "execution_count": null,
   "metadata": {},
   "outputs": [],
   "source": [
    "data_analysis = new_frame[[\"app\", \"sensor\", \"tags\", \"src_ip\", \"src_port\" ,\"ssh_username\", \"ssh_version\", \"ssh_password\", \"dest_ip\", \"dest_port\", \"signature\", \"type\", \"d_time_window\"]].copy()"
   ]
  },
  {
   "cell_type": "code",
   "execution_count": null,
   "metadata": {},
   "outputs": [],
   "source": [
    "data_analysis.head()"
   ]
  },
  {
   "cell_type": "code",
   "execution_count": null,
   "metadata": {},
   "outputs": [],
   "source": [
    "sns.set()\n",
    "fig, ax = plt.subplots(figsize=(35,10))\n",
    "data_analysis.groupby(['tags','type']).count()['src_ip'].plot(ax=ax)\n",
    "plt.tight_layout()"
   ]
  },
  {
   "cell_type": "code",
   "execution_count": null,
   "metadata": {},
   "outputs": [],
   "source": [
    "fig, ax = plt.subplots(figsize= (15,8))\n",
    "data_analysis.groupby(['tags','signature']).count()['src_ip'].unstack().plot(ax=ax)\n",
    "plt.tight_layout()\n",
    "ax.set_xlabel(\"Tags\")\n",
    "# fig, ax = plt.subplots(figsize=(35,10))\n",
    "# data.groupby(['date','type']).count()['amount'].unstack().plot(ax=ax)\n",
    "\n",
    "\n"
   ]
  },
  {
   "cell_type": "code",
   "execution_count": null,
   "metadata": {},
   "outputs": [],
   "source": []
  },
  {
   "cell_type": "code",
   "execution_count": null,
   "metadata": {},
   "outputs": [],
   "source": [
    "df_cloud = data_analysis.loc[data_analysis['tags'] == \"cloud\"]\n",
    "df_localnet = data_analysis.loc[data_analysis['tags'] != \"cloud\"] "
   ]
  },
  {
   "cell_type": "code",
   "execution_count": null,
   "metadata": {},
   "outputs": [],
   "source": [
    "sns.set()\n",
    "fig, ax = plt.subplots(figsize= (15,8))\n",
    "df_cloud.groupby(['signature']).count()['src_ip'].plot(ax=ax)\n",
    "plt.tight_layout()\n",
    "\n",
    "\n",
    "fig, ax = plt.subplots(figsize= (15,8))\n",
    "data_analysis.groupby(['tags','signature']).count()['src_ip'].unstack().plot(ax=ax)\n",
    "plt.tight_layout()\n",
    "ax.set_xlabel(\"Tags\")"
   ]
  },
  {
   "cell_type": "code",
   "execution_count": null,
   "metadata": {},
   "outputs": [],
   "source": [
    "data_analysis[\"src_port\"].value_counts().sort_values(ascending = False).head(10)"
   ]
  },
  {
   "cell_type": "code",
   "execution_count": null,
   "metadata": {},
   "outputs": [],
   "source": [
    "data_analysis[\"dest_port\"].value_counts().sort_values(ascending = False).head(10).plot.bar(rot = 0, title = \"Destination Port\")"
   ]
  },
  {
   "cell_type": "code",
   "execution_count": null,
   "metadata": {},
   "outputs": [],
   "source": [
    "data_analysis[\"ssh_password\"].value_counts().sort_values(ascending = False).head(10).plot.bar(rot=0,figsize=(20,10))\n"
   ]
  },
  {
   "cell_type": "code",
   "execution_count": null,
   "metadata": {},
   "outputs": [],
   "source": [
    "new_frame['app'].value_counts().sort_values(ascending = False).head(10).plot.bar(rot = 0, title = \"Type of Honeypot\")"
   ]
  },
  {
   "cell_type": "code",
   "execution_count": null,
   "metadata": {},
   "outputs": [],
   "source": [
    "new_frame['tags'].value_counts().sort_values(ascending = False).head(10).plot.bar(rot = 0, figsize =(20,10))"
   ]
  },
  {
   "cell_type": "code",
   "execution_count": null,
   "metadata": {},
   "outputs": [],
   "source": [
    "new_frame['ssh_username'].value_counts().sort_values(ascending = False).head(5).plot.bar()\n",
    "plt.tight_layout()"
   ]
  },
  {
   "cell_type": "code",
   "execution_count": null,
   "metadata": {},
   "outputs": [],
   "source": [
    "sns.set()\n",
    "new_frame['ssh_password'].value_counts().sort_values(ascending = False).head(10).plot.bar(figsize = (10,5), title = \"SSH password attempted\")"
   ]
  },
  {
   "cell_type": "code",
   "execution_count": null,
   "metadata": {},
   "outputs": [],
   "source": [
    "a4_dims = (22.7, 8.27)\n",
    "fig, ax = plt.subplots(figsize=a4_dims)\n",
    "sns.catplot(ax = ax, y=\"signature\", kind=\"count\",\n",
    "            palette=\"pastel\", edgecolor=\".6\",\n",
    "            data=new_frame);\n"
   ]
  },
  {
   "cell_type": "code",
   "execution_count": null,
   "metadata": {},
   "outputs": [],
   "source": [
    "new_frame"
   ]
  },
  {
   "cell_type": "code",
   "execution_count": null,
   "metadata": {
    "scrolled": true
   },
   "outputs": [],
   "source": [
    "a4_dims = (22.7, 8.27)\n",
    "fig, ax = plt.subplots(figsize=a4_dims)\n",
    "sns.catplot(ax = ax, y=\"ssh_username\", kind=\"count\",\n",
    "            palette=\"pastel\", edgecolor=\".6\",\n",
    "            data=new_frame)"
   ]
  },
  {
   "cell_type": "code",
   "execution_count": null,
   "metadata": {},
   "outputs": [],
   "source": []
  }
 ],
 "metadata": {
  "kernelspec": {
   "display_name": "Python 3",
   "language": "python",
   "name": "python3"
  },
  "language_info": {
   "codemirror_mode": {
    "name": "ipython",
    "version": 3
   },
   "file_extension": ".py",
   "mimetype": "text/x-python",
   "name": "python",
   "nbconvert_exporter": "python",
   "pygments_lexer": "ipython3",
   "version": "3.7.3"
  }
 },
 "nbformat": 4,
 "nbformat_minor": 2
}
