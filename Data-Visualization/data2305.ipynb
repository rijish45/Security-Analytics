{
 "cells": [
  {
   "cell_type": "code",
   "execution_count": 1,
   "metadata": {},
   "outputs": [
    {
     "ename": "ModuleNotFoundError",
     "evalue": "No module named 'geoip2'",
     "output_type": "error",
     "traceback": [
      "\u001b[0;31m---------------------------------------------------------------------------\u001b[0m",
      "\u001b[0;31mModuleNotFoundError\u001b[0m                       Traceback (most recent call last)",
      "\u001b[0;32m<ipython-input-1-733caf0201a5>\u001b[0m in \u001b[0;36m<module>\u001b[0;34m\u001b[0m\n\u001b[1;32m      1\u001b[0m \u001b[0;32mimport\u001b[0m \u001b[0mpandas\u001b[0m \u001b[0;32mas\u001b[0m \u001b[0mpd\u001b[0m\u001b[0;34m\u001b[0m\u001b[0;34m\u001b[0m\u001b[0m\n\u001b[0;32m----> 2\u001b[0;31m \u001b[0;32mimport\u001b[0m \u001b[0mgeoip2\u001b[0m \u001b[0;32mas\u001b[0m \u001b[0mgeo\u001b[0m\u001b[0;34m\u001b[0m\u001b[0;34m\u001b[0m\u001b[0m\n\u001b[0m\u001b[1;32m      3\u001b[0m \u001b[0;32mimport\u001b[0m \u001b[0mnumpy\u001b[0m \u001b[0;32mas\u001b[0m \u001b[0mnp\u001b[0m\u001b[0;34m\u001b[0m\u001b[0;34m\u001b[0m\u001b[0m\n\u001b[1;32m      4\u001b[0m \u001b[0;32mimport\u001b[0m \u001b[0mseaborn\u001b[0m \u001b[0;32mas\u001b[0m \u001b[0msns\u001b[0m\u001b[0;34m\u001b[0m\u001b[0;34m\u001b[0m\u001b[0m\n\u001b[1;32m      5\u001b[0m \u001b[0;32mimport\u001b[0m \u001b[0mgeoip2\u001b[0m\u001b[0;34m.\u001b[0m\u001b[0mdatabase\u001b[0m\u001b[0;34m\u001b[0m\u001b[0;34m\u001b[0m\u001b[0m\n",
      "\u001b[0;31mModuleNotFoundError\u001b[0m: No module named 'geoip2'"
     ]
    }
   ],
   "source": [
    "import pandas as pd\n",
    "import geoip2 as geo\n",
    "import numpy as np\n",
    "import seaborn as sns\n",
    "import geoip2.database \n",
    "import matplotlib.pyplot as plt\n",
    "from countryinfo import CountryInfo\n",
    "import geopandas as gpd\n",
    "from shapely.geometry import Point, Polygon\n",
    "%matplotlib inline\n",
    "import plotly.plotly as py\n",
    "import plotly.tools as tls\n",
    "import plotly.graph_objs as go\n",
    "tls.set_credentials_file(username = 'siboraseranaj', api_key = 'IHHNxqWlSHyWAlNSNK7z')\n",
    "import matplotlib as mpl\n",
    "from matplotlib.colors import LinearSegmentedColormap\n",
    "from matplotlib import colors\n",
    "import pycountry_convert as pc\n",
    "import math"
   ]
  },
  {
   "cell_type": "code",
   "execution_count": null,
   "metadata": {},
   "outputs": [],
   "source": [
    "#Read in data using read_csv\n",
    "datafinal = pd.read_csv(\"OIT-Security-Analytics.csv\").drop('Unnamed: 0', axis = 1)"
   ]
  },
  {
   "cell_type": "code",
   "execution_count": null,
   "metadata": {},
   "outputs": [],
   "source": [
    "datafinal.NetUserPercent.isnull().value_counts()"
   ]
  },
  {
   "cell_type": "code",
   "execution_count": null,
   "metadata": {},
   "outputs": [],
   "source": [
    "datafinal1 = datafinal[datafinal.isna().any(axis=1)].reset_index(drop = True)\n",
    "datafinal2 = datafinal.dropna().reset_index(drop = True)\n",
    "datafinal2"
   ]
  },
  {
   "cell_type": "code",
   "execution_count": null,
   "metadata": {},
   "outputs": [],
   "source": [
    "datafinal2 = datafinal.dropna().reset_index(drop = True)\n",
    "datafinal2"
   ]
  },
  {
   "cell_type": "code",
   "execution_count": null,
   "metadata": {},
   "outputs": [],
   "source": [
    "datafinal2[\"AttacksPerUser\"] = datafinal2.apply(lambda x: x['freq']/(x[\"Population\"]*x[\"NetUserPercent\"]/100), axis=1)\n",
    "data_sorted = datafinal2.sort_values(by = \"AttacksPerUser\", ascending = False).reset_index(drop = True)\n"
   ]
  },
  {
   "cell_type": "code",
   "execution_count": null,
   "metadata": {},
   "outputs": [],
   "source": [
    "a = sns.barplot( x =\"AttacksPerUser\", y = \"Country\", data=data_sorted)\n",
    "a.axes.set_title(\"The number of attacks per user in each country\",fontsize=150)\n",
    "a.set_xlabel(\"Attacks per User\",fontsize=100)\n",
    "a.set_ylabel(\"Country\",fontsize=100)\n",
    "a.tick_params(labelsize=45)\n",
    "sns.set(rc={'figure.figsize':(100,100)})"
   ]
  },
  {
   "cell_type": "code",
   "execution_count": null,
   "metadata": {},
   "outputs": [],
   "source": [
    "dataND = data_sorted.drop([0]).reset_index(drop = True)\n",
    "dataND"
   ]
  },
  {
   "cell_type": "code",
   "execution_count": null,
   "metadata": {},
   "outputs": [],
   "source": [
    "c = sns.barplot( x =\"AttacksPerUser\", y = \"Country\", data=dataND)\n",
    "c.axes.set_title(\"The number of attacks per user in each country (No Netherland)\",fontsize=150)\n",
    "c.set_xlabel(\"Attacks per User\",fontsize=100)\n",
    "c.set_ylabel(\"Country\",fontsize=100)\n",
    "c.tick_params(labelsize=45)\n",
    "sns.set(rc={'figure.figsize':(100,100)})"
   ]
  },
  {
   "cell_type": "code",
   "execution_count": null,
   "metadata": {},
   "outputs": [],
   "source": [
    "world = gpd.read_file(gpd.datasets.get_path(\"naturalearth_lowres\"))\n"
   ]
  },
  {
   "cell_type": "code",
   "execution_count": null,
   "metadata": {},
   "outputs": [],
   "source": [
    "plot_data_world = datafinal2.drop_duplicates(\"Country\").reset_index(drop = True)"
   ]
  },
  {
   "cell_type": "code",
   "execution_count": null,
   "metadata": {},
   "outputs": [],
   "source": [
    "plot_data_world.info()"
   ]
  },
  {
   "cell_type": "code",
   "execution_count": null,
   "metadata": {},
   "outputs": [],
   "source": [
    "#fig, ax = plt.subplots(1, figsize= (18,7))\n",
    "#cmap = mpl.cm.get_cmap(\"cividis\")\n",
    "#cmap.set_under('red')\n",
    "\n",
    "#datanona.plot(column = \"AttacksPerUser\", cmap = cmap, linewidth= 0.8, ax = ax, vmin = 1.481593e-05, edgecolor=\"0.8\", legend = False)\n",
    "#ax.axis(\"off\")\n",
    "#ax.set_title(\"Attacks per user in each country\", fontdict = {\"fontsize\": \"10\", \"fontweight\": \"1\"})\n",
    "\n",
    "#scatter = ax.collections[0]\n",
    "#plt.colorbar(scatter, ax=ax, extend='min')"
   ]
  },
  {
   "cell_type": "code",
   "execution_count": null,
   "metadata": {},
   "outputs": [],
   "source": [
    "def get_continet(row):\n",
    "    return pc.country_alpha2_to_continent_code(pc.country_name_to_country_alpha2(row['Country'],cn_name_format=\"default\"))\n",
    "plot_data_world['Continent'] = plot_data_world.apply(get_continet,axis = 1)\n",
    "#pc.country_alpha2_to_continent_code(pc.country_name_to_country_alpha2('Brazil',cn_name_format=\"default\"))\n",
    "plot_data_world"
   ]
  },
  {
   "cell_type": "code",
   "execution_count": null,
   "metadata": {},
   "outputs": [],
   "source": [
    "datafinal2.rename(index = {\"United States\": \"United States of America\"}, \n",
    "                                 inplace = True) \n",
    "datafinal2.replace({\"Country\": \"United States\"}, \"United States of America\", inplace = True )\n",
    "\n",
    "def f(row):\n",
    "    if math.isnan(row[\"AttacksPerUser\"]):\n",
    "        return \"There is no data provided for \" + row[\"Country\"]\n",
    "    else: \n",
    "        return 'Number of Attacks per user ' + 'in' + \" \" + row['Country'] + ' is ' + str(row['AttacksPerUser'])\n",
    "\n",
    "dt.apply(f, axis = 1)   \n",
    "plot_data_world['text'] = plot_data_world.apply(f, axis = 1) "
   ]
  },
  {
   "cell_type": "code",
   "execution_count": null,
   "metadata": {},
   "outputs": [],
   "source": [
    "dt = plot_data_world  \n",
    "\n",
    "data = [dict(type = 'choropleth',autocolorscale = False, locations = dt['Country'],zmin = 0, zmax = 5.1e-05, z = dt['AttacksPerUser'],\n",
    "            locationmode = 'country names', text = dt['text'],colorscale = 'Bluered',\n",
    "            colorbar = dict(title = \"Number of Attacks per User in each Country\"))]\n",
    "\n",
    "layout = dict(title = \"Number of Attacks per User in each Country (World)\", geo = dict(scope = 'world', projection = go.layout.geo.Projection(type = 'equirectangular'), showcountries = True))\n",
    "\n",
    "#fig = go.Figure(data = data,layout = layout)\n",
    "go.FigureWidget(data = data,layout = layout)"
   ]
  },
  {
   "cell_type": "code",
   "execution_count": null,
   "metadata": {},
   "outputs": [],
   "source": [
    "dt.describe()"
   ]
  },
  {
   "cell_type": "code",
   "execution_count": null,
   "metadata": {},
   "outputs": [],
   "source": [
    "dt.sort_values(by = \"AttacksPerUser\", ascending = False).reset_index(drop = True)"
   ]
  },
  {
   "cell_type": "code",
   "execution_count": null,
   "metadata": {},
   "outputs": [],
   "source": [
    "plot_data_world  "
   ]
  },
  {
   "cell_type": "code",
   "execution_count": null,
   "metadata": {},
   "outputs": [],
   "source": [
    "europe = plot_data_world[plot_data_world[\"Continent\"] == \"EU\"].reset_index(drop = True)"
   ]
  },
  {
   "cell_type": "code",
   "execution_count": null,
   "metadata": {},
   "outputs": [],
   "source": [
    "\n",
    "\n",
    "dt1 = europe \n",
    "\n",
    "data1 = [dict(type = 'choropleth',autocolorscale = False, locations = dt1['Country'], zmax = 0.000075,zmin = 0, z = dt1['AttacksPerUser'],\n",
    "            locationmode = 'country names', text = dt1['text'],colorscale = [\n",
    "[0, 'rgb(255,255,204)'], \n",
    "[0.125, 'rgb(255,255,204)'],\n",
    "#[0.125, 'rgb(255,204,153)'], \n",
    "[0.25, 'rgb(255,204,153)'],\n",
    "#[0.25, 'rgb(255,100,0)'], \n",
    "[0.5, 'rgb(255,100,0)'],\n",
    "#[0.5, 'rgb(220,0,0)'],\n",
    "[0.72, 'rgb(220,0,0)'],                \n",
    "#[0.80, \"rgb(100,0,0)\"],\n",
    "#[0.90, \"rgb(170,0,0)\"],\n",
    "#[0.90, \"rgb(100,0,0)\"],\n",
    "[1, \"rgb(100,0,0)\"]], \n",
    "\n",
    "colorbar = dict(title = \"Number of Attacks per User in each Country\", tickvals = [0.000005,0.000014,0.000028, 0.000050, 0.000071], ticktext = [\"Very Low\",\"Low\", \"Moderate\", \"High\",\"Very High\"]))]\n",
    "layout1 = dict(title = \"Number of Attacks per User in each Country (Europe)\", geo = dict(scope = 'europe', projection = go.layout.geo.Projection(type = 'equirectangular'), showcountries = True))\n",
    "\n",
    "#fig1 = go.Figure(data = data1,layout = layout1)\n",
    "#py.plot(fig)\n",
    "go.FigureWidget(data = data1,layout = layout1)"
   ]
  },
  {
   "cell_type": "code",
   "execution_count": null,
   "metadata": {},
   "outputs": [],
   "source": [
    "asia = plot_data_world[plot_data_world[\"Continent\"] == \"AS\"].reset_index(drop = True)"
   ]
  },
  {
   "cell_type": "code",
   "execution_count": null,
   "metadata": {},
   "outputs": [],
   "source": [
    "dt2 = asia \n",
    "  \n",
    "data2 = [dict(type = 'choropleth',autocolorscale = False, locations = dt2['Country'], z = dt2['AttacksPerUser'],zmin = 0,zmax = 0.00022,\n",
    "            locationmode = 'country names', text = dt2['text'],colorscale = [\n",
    "[0, 'rgb(255,255,204)'], \n",
    "[0.040742121850816385, 'rgb(255,255,204)'],\n",
    "#[0.060742121850816385, 'rgb(255,204,153)'], \n",
    "[0.12497886374331212, 'rgb(255,204,153)'],\n",
    "#[0.13497886374331212, 'rgb(255,100,0)'], \n",
    "[0.178008229102, 'rgb(255,100,0)'],\n",
    "#[0.198008229102, 'rgb(220,0,0)'],\n",
    "[0.23, 'rgb(220,0,0)'],                \n",
    "#[0.50, \"rgb(100,0,0)\"],\n",
    "[1, \"rgb(100,0,0)\"]],\n",
    "\n",
    "colorbar = dict(title = \"Number of Attacks per User in each Country\", tickvals = [0.000014,0.000032,0.000051, 0.000090, 0.00016], ticktext = [\"Very Low\",\"Low\", \"Moderate\", \"High\",\"Very High\"]))]\n",
    "layout2 = dict(title = \"Number of Attacks per User in each Country (Asia)\", geo = dict(scope = 'asia', projection = go.layout.geo.Projection(type = 'equirectangular'),\n",
    "                                                                               showcountries= True))\n",
    "\n",
    "#fig2 = go.Figure(data = data2,layout = layout2)\n",
    "#py.plot(fig2)\n",
    "go.FigureWidget(data = data2,layout = layout2)"
   ]
  },
  {
   "cell_type": "code",
   "execution_count": null,
   "metadata": {},
   "outputs": [],
   "source": [
    "africa = plot_data_world[plot_data_world[\"Continent\"] == \"AF\"]"
   ]
  },
  {
   "cell_type": "code",
   "execution_count": null,
   "metadata": {},
   "outputs": [],
   "source": [
    "dt3 = africa \n",
    "  \n",
    "data3 = [dict(type = 'choropleth',autocolorscale = False, locations = dt3['Country'], z = dt3['AttacksPerUser'],zmin = 0,zmax = 1e-05,\n",
    "            locationmode = 'country names', text = dt3['text'],colorscale = [\n",
    "[0, 'rgb(255,255,204)'], \n",
    "[0.22343630872815487, 'rgb(255,255,204)'],\n",
    "#[0.22343630872815487, 'rgb(255,204,153)'], \n",
    "[0.47, 'rgb(255,204,153)'],\n",
    "#[0.47, 'rgb(255,100,0)'], \n",
    "[0.66, 'rgb(255,100,0)'],\n",
    "#[0.66, 'rgb(220,0,0)'],\n",
    "[0.80, 'rgb(220,0,0)'],                \n",
    "#[0.80, \"rgb(100,0,0)\"],\n",
    "[1, \"rgb(100,0,0)\"]],\n",
    "\n",
    "colorbar = dict(title = \"Number of Attacks per User in each Country\", tickvals = [0.000001,0.0000035,0.0000057, 0.0000073, 0.000009], ticktext = [\"Very Low\",\"Low\", \"Moderate\", \"High\",\"Very High\"]))]\n",
    "layout3 = dict(title = \"Number of Attacks per User in each Country (Africa)\", geo = dict(scope = 'africa', projection = go.layout.geo.Projection(type = 'equirectangular'), #showlakes = True, lakecolor = 'rgb(66,165,245)',\n",
    "                                                                               showcountries= True))#fig2 = go.Figure(data = data2,layout = layout2)\n",
    "#py.plot(fig2)\n",
    "go.FigureWidget(data = data3,layout = layout3)"
   ]
  },
  {
   "cell_type": "code",
   "execution_count": null,
   "metadata": {},
   "outputs": [],
   "source": [
    "#dt3.describe()"
   ]
  },
  {
   "cell_type": "code",
   "execution_count": null,
   "metadata": {},
   "outputs": [],
   "source": [
    "#dt3.sort_values(by = \"AttacksPerUser\", ascending = False).reset_index(drop = True)"
   ]
  },
  {
   "cell_type": "code",
   "execution_count": null,
   "metadata": {},
   "outputs": [],
   "source": [
    "North_America = plot_data_world[plot_data_world[\"Continent\"] == \"NA\"]"
   ]
  },
  {
   "cell_type": "code",
   "execution_count": null,
   "metadata": {},
   "outputs": [],
   "source": [
    "dt4 = North_America\n",
    "  \n",
    "data4 = [dict(type = 'choropleth',autocolorscale = False, locations = dt4['Country'], z = dt4['AttacksPerUser'],zmin = 0,zmax = 0.000162,\n",
    "            locationmode = 'country names', text = dt4['text'],colorscale = [\n",
    "[0, 'rgb(255,255,204)'], \n",
    "[0.08, 'rgb(255,255,204)'],\n",
    "#[0.08, 'rgb(255,204,153)'], \n",
    "[0.14, 'rgb(255,204,153)'],\n",
    "#[0.14, 'rgb(255,100,0)'], \n",
    "[0.25, 'rgb(255,100,0)'],\n",
    "#[0.40, 'rgb(220,0,0)'],\n",
    "[0.70, 'rgb(220,0,0)'],                \n",
    "#[0.70, \"rgb(100,0,0)\"],\n",
    "[1, \"rgb(100,0,0)\"]],\n",
    "\n",
    "colorbar = dict(title = \"Number of Attacks per User in each Country\", tickvals = [0.000007,0.000029,0.000052, 0.0000900, 0.00014], ticktext = [\"Very Low\",\"Low\", \"Moderate\", \"High\",\"Very High\"]))]\n",
    "\n",
    "layout4 = dict(title = \"Number of Attacks per User in each Country (North America)\", geo = dict(scope = 'north america', projection = go.layout.geo.Projection(type = 'equirectangular'), #showlakes = True, lakecolor = 'rgb(66,165,245)',\n",
    "                                                                               showcountries= True))\n",
    "\n",
    "#fig2 = go.Figure(data = data2,layout = layout2)\n",
    "#py.plot(fig2)\n",
    "go.FigureWidget(data = data4,layout = layout4)"
   ]
  },
  {
   "cell_type": "code",
   "execution_count": null,
   "metadata": {},
   "outputs": [],
   "source": [
    "#dt4.describe()"
   ]
  },
  {
   "cell_type": "code",
   "execution_count": null,
   "metadata": {},
   "outputs": [],
   "source": [
    "#dt4.sort_values(by = \"AttacksPerUser\", ascending = False).reset_index(drop = True)"
   ]
  },
  {
   "cell_type": "code",
   "execution_count": null,
   "metadata": {},
   "outputs": [],
   "source": [
    "South_America = plot_data_world[plot_data_world[\"Continent\"] == \"SA\"]"
   ]
  },
  {
   "cell_type": "code",
   "execution_count": null,
   "metadata": {},
   "outputs": [],
   "source": [
    "dt5 = South_America\n",
    "  \n",
    "data5 = [dict(type = 'choropleth',autocolorscale = False, locations = dt5['Country'], z = dt5['AttacksPerUser'],zmin = 0,zmax = 0.0001,\n",
    "            locationmode = 'country names', text = dt5['text'],colorscale = [\n",
    "[0, 'rgb(255,255,204)'], \n",
    "[0.12, 'rgb(255,255,204)'],\n",
    "#[0.12, 'rgb(255,204,153)'], \n",
    "[0.18, 'rgb(255,204,153)'],\n",
    "#[0.22, 'rgb(255,100,0)'], \n",
    "[0.29, 'rgb(255,100,0)'],\n",
    "#[0.23, 'rgb(220,0,0)'],\n",
    "[0.70, 'rgb(220,0,0)'],                \n",
    "#[0.70, \"rgb(100,0,0)\"],\n",
    "[1, \"rgb(100,0,0)\"]],\n",
    "\n",
    "colorbar = dict(title = \"Number of Attacks per User in each Country\", tickvals = [0.000005,0.000018,0.000037, 0.000055, 0.000085], ticktext = [\"Very Low\",\"Low\", \"Moderate\", \"High\",\"Very High\"]))]\n",
    "\n",
    "layout5 = dict(title = \"Number of Attacks per User in each Country (South America)\", geo = dict(scope = 'south america', projection = go.layout.geo.Projection(type = 'equirectangular'), #showlakes = True, lakecolor = 'rgb(66,165,245)',\n",
    "                                                                               showcountries= True))\n",
    "\n",
    "#fig2 = go.Figure(data = data2,layout = layout2)\n",
    "#py.plot(fig2)\n",
    "go.FigureWidget(data = data5,layout = layout5)"
   ]
  },
  {
   "cell_type": "code",
   "execution_count": null,
   "metadata": {},
   "outputs": [],
   "source": [
    "#dt5.describe()"
   ]
  },
  {
   "cell_type": "code",
   "execution_count": null,
   "metadata": {},
   "outputs": [],
   "source": [
    "#dt5.sort_values(by = \"AttacksPerUser\", ascending = False).reset_index(drop = True)"
   ]
  },
  {
   "cell_type": "code",
   "execution_count": null,
   "metadata": {},
   "outputs": [],
   "source": [
    "#pd.DataFrame(plot_data_world['Continent'].value_counts())"
   ]
  },
  {
   "cell_type": "code",
   "execution_count": null,
   "metadata": {},
   "outputs": [],
   "source": [
    "Oceania = plot_data_world[plot_data_world[\"Continent\"] == \"OC\"]"
   ]
  },
  {
   "cell_type": "code",
   "execution_count": null,
   "metadata": {},
   "outputs": [],
   "source": [
    "dt6 = Oceania\n",
    "  \n",
    "data6 = [dict(type = 'choropleth',autocolorscale = False, locations = dt6['Country'], z = dt5['AttacksPerUser'],zmin = 0,zmax = 0.0001,\n",
    "            locationmode = 'country names', text = dt6['text'],colorscale = [\n",
    "[0, 'rgb(255,255,204)'], \n",
    "[0.12, 'rgb(255,255,204)'],\n",
    "#[0.12, 'rgb(255,204,153)'], \n",
    "[0.25, 'rgb(255,204,153)'],\n",
    "#[0.25, 'rgb(255,100,0)'], \n",
    "[0.40, 'rgb(255,100,0)'],\n",
    "#[0.40, 'rgb(220,0,0)'],\n",
    "[0.70, 'rgb(220,0,0)'],                \n",
    "#[0.70, \"rgb(100,0,0)\"],\n",
    "[1, \"rgb(100,0,0)\"]],\n",
    "\n",
    "colorbar = dict(title = \"Number of Attacks per User in each Country\", tickvals = [0.000007,0.0000195,0.000035, 0.000055, 0.000085], ticktext = [\"Very Low\",\"Low\", \"Moderate\", \"High\",\"Very High\"]))]\n",
    "\n",
    "layout6 = dict(title = \"Number of Attacks per User in each Country (Oceania)\", geo = dict(scope = 'world', projection = go.layout.geo.Projection(type = 'equirectangular'), #showlakes = True, lakecolor = 'rgb(66,165,245)',\n",
    "                                                                               showcountries= True))\n",
    "\n",
    "#fig2 = go.Figure(data = data2,layout = layout2)\n",
    "#py.plot(fig2)\n",
    "go.FigureWidget(data = data6,layout = layout6)"
   ]
  },
  {
   "cell_type": "code",
   "execution_count": null,
   "metadata": {},
   "outputs": [],
   "source": [
    "# Import dataset to run regression\n",
    "#gender = pd.read_csv(\"/Users/siboraseranaj/Desktop/Duke/data+/Security-Analytics/gender-gap1.csv\", sep='delimiter', header=None , engine='python')\n",
    "\n",
    "# file = open('/Users/siboraseranaj/Desktop/Duke/data+/Security-Analytics/' + filename, 'r', encoding=\"ISO-8859-1\")"
   ]
  },
  {
   "cell_type": "code",
   "execution_count": null,
   "metadata": {},
   "outputs": [],
   "source": [
    "extradata = gpd.read_file(gpd.datasets.get_path(\"naturalearth_lowres\"))\n",
    "extradata\n"
   ]
  },
  {
   "cell_type": "code",
   "execution_count": null,
   "metadata": {},
   "outputs": [],
   "source": [
    "datafinal2.replace({\"Country\": \"United States\"}, \"United States of America\", inplace = True )\n",
    "full = extradata.set_index(\"name\", drop = False).join(datafinal2.set_index(\"Country\"))"
   ]
  },
  {
   "cell_type": "code",
   "execution_count": null,
   "metadata": {},
   "outputs": [],
   "source": [
    "fullf"
   ]
  },
  {
   "cell_type": "code",
   "execution_count": null,
   "metadata": {},
   "outputs": [],
   "source": [
    "data = full.drop(columns=[\"name\", \"geometry\", \"iso_a3\"]).copy()"
   ]
  },
  {
   "cell_type": "code",
   "execution_count": null,
   "metadata": {},
   "outputs": [],
   "source": [
    "data[\"freq\"].fillna(value=data[\"freq\"].mean(), inplace = True)"
   ]
  },
  {
   "cell_type": "code",
   "execution_count": null,
   "metadata": {},
   "outputs": [],
   "source": [
    "data[\"freq\"].isnull()"
   ]
  },
  {
   "cell_type": "code",
   "execution_count": null,
   "metadata": {},
   "outputs": [],
   "source": [
    "data"
   ]
  },
  {
   "cell_type": "code",
   "execution_count": null,
   "metadata": {},
   "outputs": [],
   "source": [
    "data.drop(columns=\"pop_est\", inplace = True)"
   ]
  },
  {
   "cell_type": "code",
   "execution_count": null,
   "metadata": {},
   "outputs": [],
   "source": [
    "data"
   ]
  },
  {
   "cell_type": "code",
   "execution_count": null,
   "metadata": {},
   "outputs": [],
   "source": [
    "data[\"AttacksPerUser\"].dropna(axis = 0, inplace = True)\n",
    "data[\"Population\"].dropna(axis = 0, inplace = True)"
   ]
  },
  {
   "cell_type": "code",
   "execution_count": null,
   "metadata": {},
   "outputs": [],
   "source": [
    "data[\"AttacksPerUser\"].isnull()\n",
    "data[\"Population\"].isnull()"
   ]
  },
  {
   "cell_type": "code",
   "execution_count": null,
   "metadata": {},
   "outputs": [],
   "source": [
    "data.info()"
   ]
  },
  {
   "cell_type": "code",
   "execution_count": null,
   "metadata": {},
   "outputs": [],
   "source": [
    "data"
   ]
  },
  {
   "cell_type": "code",
   "execution_count": null,
   "metadata": {},
   "outputs": [],
   "source": [
    "data.dropna(inplace = True)\n",
    "final_data = data"
   ]
  },
  {
   "cell_type": "code",
   "execution_count": null,
   "metadata": {},
   "outputs": [],
   "source": [
    "final_data"
   ]
  },
  {
   "cell_type": "code",
   "execution_count": null,
   "metadata": {},
   "outputs": [],
   "source": [
    "final_data.corr()\n",
    "final_data[\"NetPop\"] = final_data[\"NetUserPercent\"]*final_data[\"Population\"] \n",
    "final_data.drop(columns=[\"NetUserPercent\"], inplace = True)"
   ]
  },
  {
   "cell_type": "code",
   "execution_count": null,
   "metadata": {},
   "outputs": [],
   "source": [
    "fig, ax = plt.subplots(figsize = (15,10))\n",
    "sns.heatmap(final_data.corr(), annot= True)"
   ]
  },
  {
   "cell_type": "code",
   "execution_count": null,
   "metadata": {},
   "outputs": [],
   "source": [
    "sns.pairplot(final_data)"
   ]
  },
  {
   "cell_type": "code",
   "execution_count": null,
   "metadata": {},
   "outputs": [],
   "source": [
    "X = final_data[[\"gdp_md_est\", Aa\"Population\", \"AttacksPerUser\", \"NetPop\"]]\n",
    "y= final_data[\"freq\"]"
   ]
  },
  {
   "cell_type": "code",
   "execution_count": null,
   "metadata": {},
   "outputs": [],
   "source": [
    "from sklearn.model_selection import train_test_split\n",
    "X_train, X_test, y_train, y_test = train_test_split(X,y, test_size = 0.3, random_state = 101)"
   ]
  },
  {
   "cell_type": "code",
   "execution_count": null,
   "metadata": {},
   "outputs": [],
   "source": [
    "from sklearn.linear_model import LinearRegression\n",
    "lm = LinearRegression()\n",
    "lm.fit(X_train, y_train)"
   ]
  },
  {
   "cell_type": "code",
   "execution_count": null,
   "metadata": {},
   "outputs": [],
   "source": [
    "lm.coef_"
   ]
  },
  {
   "cell_type": "code",
   "execution_count": null,
   "metadata": {},
   "outputs": [],
   "source": [
    "predict = lm.predict(X_test)\n",
    "from sklearn.metrics import mean_squared_error\n",
    "from sklearn.metrics import mean_absolute_error\n",
    "\n",
    "print(mean_absolute_error(y_test, predict))\n",
    "print(mean_squared_error(y_test, predict))\n",
    "print(np.sqrt(mean_squared_error(y_test, predict)))\n"
   ]
  }
 ],
 "metadata": {
  "kernelspec": {
   "display_name": "Python 3",
   "language": "python",
   "name": "python3"
  },
  "language_info": {
   "codemirror_mode": {
    "name": "ipython",
    "version": 3
   },
   "file_extension": ".py",
   "mimetype": "text/x-python",
   "name": "python",
   "nbconvert_exporter": "python",
   "pygments_lexer": "ipython3",
   "version": "3.7.3"
  }
 },
 "nbformat": 4,
 "nbformat_minor": 2
}
